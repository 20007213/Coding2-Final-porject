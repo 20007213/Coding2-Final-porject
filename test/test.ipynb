{
 "cells": [
  {
   "cell_type": "code",
   "execution_count": 48,
   "id": "977282ea-f0bb-4ee7-aeec-953e953f71ab",
   "metadata": {},
   "outputs": [
    {
     "data": {
      "text/plain": [
       "'\\nif __name__ == \\'__main__\\':\\n    Source_files_path = \\'./images/test.jpg\\'\\n    Black_and_white_pictures_path = \\'./images/Black_and_white_test.jpg\\'\\n    Automatically_generated_pictures_path = \\'./images/Automatically_generated_test.jpg\\'\\n\\n    cap = cv2.VideoCapture(0, cv2.CAP_DSHOW)  # 打开摄像头\\n\\n    while True:\\n        # get a frame\\n        ret, frame = cap.read()\\n        frame = cv2.flip(frame, 1)  # 摄像头是和人对立的，将图像左右调换回来正常显示\\n        # show a frame\\n        #cv2.startWindowThread()\\n        cv2.namedWindow(\"capture\")\\n        #cv2.imshow(\"capture\", frame)  # 生成摄像头窗口\\n        print(frame)\\n        plt.imshow(frame)\\n        plt.title(\\'capture\\')\\n        plt.show()\\n        if cv2.waitKey(1) & 0xFF == ord(\\'q\\'):  # 如果按下q 就截图保存并退出\\n            cv2.imwrite(Source_files_path, frame)  # 保存路径\\n            break\\n\\n    cap.release()\\n    cv2.destroyAllWindows()\\n\\n    img = Image.open(Source_files_path)   # 读取图片\\n    img = img.resize((256, 256), Image.ANTIALIAS).convert(\"L\")   # 调整图片像素为256*256并转化为黑白图片\\n    img.save(Black_and_white_pictures_path)   # 存储图片\\n\\n    gan = Pix2Pix()\\n    # gan.train(epochs=1200, batch_size=4, sample_interval=10, load_pretrained=True)\\n\\n    predict_single_image(gan, Black_and_white_pictures_path, Automatically_generated_pictures_path)\\n    print(f\"程序运行完成\")\\n'"
      ]
     },
     "execution_count": 48,
     "metadata": {},
     "output_type": "execute_result"
    }
   ],
   "source": [
    "# -*- coding: utf-8 -*-\n",
    "\n",
    "import scipy\n",
    "from keras.datasets import mnist\n",
    "from keras.layers import Input, Dense, Reshape, Flatten, Dropout, Concatenate\n",
    "from keras.layers import BatchNormalization, Activation, ZeroPadding2D\n",
    "from keras.layers.advanced_activations import LeakyReLU\n",
    "from keras.layers.convolutional import UpSampling2D, Conv2D\n",
    "from keras.models import Sequential, Model\n",
    "from tensorflow.keras.optimizers import Adam\n",
    "import matplotlib.pyplot as plt\n",
    "import numpy as np\n",
    "import os\n",
    "import sys\n",
    "from model import Pix2Pix\n",
    "from PIL import Image\n",
    "import cv2\n",
    "\n",
    "import scipy.misc\n",
    "\n",
    "def imread(path):\n",
    "    img = plt.imread(path).astype(np.float)\n",
    "    img_rgb = np.concatenate([np.expand_dims(img,2)]*3,axis=2)\n",
    "    return img_rgb\n",
    "    #return scipy.misc.imread(path, mode='RGB').astype(np.float)\n",
    "\n",
    "def predict_single_image(pix2pix, image_path, save_path):\n",
    "    pix2pix.generator.load_weights('./weights/generator_weights.h5')\n",
    "    image_B = imread(image_path)\n",
    "    #image_B = scipy.misc.imresize(image_B, (pix2pix.nW, pix2pix.nH))\n",
    "    print(image_B.shape)\n",
    "    #image_B = np.array(Image.fromarray(image_B).resize(size=(pix2pix.nW, pix2pix.nH)))\n",
    "    image_B = np.array(Image.fromarray(image_B.astype('uint8'), mode='RGB').resize(size=(pix2pix.nW, pix2pix.nH)))\n",
    "    \n",
    "    images_B = []\n",
    "    images_B.append(image_B)\n",
    "    images_B = np.array(images_B)/127.5 - 1.\n",
    "    generates_A = pix2pix.generator.predict(images_B)\n",
    "    generate_A = generates_A[0]\n",
    "    generate_A = np.uint8((np.array(generate_A) * 0.5 + 0.5) * 255)\n",
    "    generate_A = Image.fromarray(generate_A)\n",
    "    generated_image = Image.new('RGB', (pix2pix.nW, pix2pix.nH))\n",
    "    generated_image.paste(generate_A, (0, 0, pix2pix.nW, pix2pix.nH))\n",
    "    generated_image.save(save_path, quality=95)\n",
    "    pass\n",
    "\n",
    "\n",
    "def convert_to_gray_single_image(image_path, save_path, resize_height=256, resize_weidth=256): \n",
    "    img = Image.open(image_path)\n",
    "    img_color = img.resize((resize_weidth, resize_height), Image.ANTIALIAS)\n",
    "    img_gray = img_color.convert('L')\n",
    "    img_gray = img_gray.convert('RGB')\n",
    "    img_gray.save(save_path, quality=95)\n",
    "\n",
    "'''\n",
    "if __name__ == '__main__':\n",
    "    Source_files_path = './images/test.jpg'\n",
    "    Black_and_white_pictures_path = './images/Black_and_white_test.jpg'\n",
    "    Automatically_generated_pictures_path = './images/Automatically_generated_test.jpg'\n",
    "\n",
    "    cap = cv2.VideoCapture(0, cv2.CAP_DSHOW)  # 打开摄像头\n",
    "\n",
    "    while True:\n",
    "        # get a frame\n",
    "        ret, frame = cap.read()\n",
    "        frame = cv2.flip(frame, 1)  # 摄像头是和人对立的，将图像左右调换回来正常显示\n",
    "        # show a frame\n",
    "        #cv2.startWindowThread()\n",
    "        cv2.namedWindow(\"capture\")\n",
    "        #cv2.imshow(\"capture\", frame)  # 生成摄像头窗口\n",
    "        print(frame)\n",
    "        plt.imshow(frame)\n",
    "        plt.title('capture')\n",
    "        plt.show()\n",
    "        if cv2.waitKey(1) & 0xFF == ord('q'):  # 如果按下q 就截图保存并退出\n",
    "            cv2.imwrite(Source_files_path, frame)  # 保存路径\n",
    "            break\n",
    "\n",
    "    cap.release()\n",
    "    cv2.destroyAllWindows()\n",
    "\n",
    "    img = Image.open(Source_files_path)   # 读取图片\n",
    "    img = img.resize((256, 256), Image.ANTIALIAS).convert(\"L\")   # 调整图片像素为256*256并转化为黑白图片\n",
    "    img.save(Black_and_white_pictures_path)   # 存储图片\n",
    "\n",
    "    gan = Pix2Pix()\n",
    "    # gan.train(epochs=1200, batch_size=4, sample_interval=10, load_pretrained=True)\n",
    "\n",
    "    predict_single_image(gan, Black_and_white_pictures_path, Automatically_generated_pictures_path)\n",
    "    print(f\"程序运行完成\")\n",
    "'''"
   ]
  },
  {
   "cell_type": "code",
   "execution_count": null,
   "id": "512c68a8-157b-4592-82f1-a9eb8e36a341",
   "metadata": {},
   "outputs": [],
   "source": [
    "import tensorflow as tf"
   ]
  },
  {
   "cell_type": "code",
   "execution_count": null,
   "id": "6df49233-7bd0-473a-80f8-02f316082513",
   "metadata": {},
   "outputs": [],
   "source": [
    "cap = cv2.VideoCapture(0, cv2.CAP_DSHOW)"
   ]
  },
  {
   "cell_type": "code",
   "execution_count": 7,
   "id": "59a89856-04b8-43c0-84fd-6410d190bec9",
   "metadata": {},
   "outputs": [],
   "source": [
    "img = Image.open('1.jpg')\n",
    "img = img.resize((256, 256), Image.ANTIALIAS).convert(\"L\")\n",
    "img.save('2.jpg')"
   ]
  },
  {
   "cell_type": "code",
   "execution_count": 8,
   "id": "5ac7eec6-1ad6-4715-851a-8903ad6cbaa7",
   "metadata": {},
   "outputs": [
    {
     "name": "stderr",
     "output_type": "stream",
     "text": [
      "2022-03-14 21:57:19.614682: I tensorflow/core/common_runtime/pluggable_device/pluggable_device_factory.cc:305] Could not identify NUMA node of platform GPU ID 0, defaulting to 0. Your kernel may not have been built with NUMA support.\n",
      "2022-03-14 21:57:19.614953: I tensorflow/core/common_runtime/pluggable_device/pluggable_device_factory.cc:271] Created TensorFlow device (/job:localhost/replica:0/task:0/device:GPU:0 with 0 MB memory) -> physical PluggableDevice (device: 0, name: METAL, pci bus id: <undefined>)\n"
     ]
    },
    {
     "name": "stdout",
     "output_type": "stream",
     "text": [
      "Metal device set to: Apple M1 Pro\n"
     ]
    }
   ],
   "source": [
    "gan = Pix2Pix()"
   ]
  },
  {
   "cell_type": "code",
   "execution_count": 49,
   "id": "84fdad76-258e-488c-b8b3-11279b427fae",
   "metadata": {},
   "outputs": [
    {
     "name": "stderr",
     "output_type": "stream",
     "text": [
      "/var/folders/12/bdpxcrts1058cvnjz3lb72j40000gn/T/ipykernel_77301/1288495302.py:22: DeprecationWarning: `np.float` is a deprecated alias for the builtin `float`. To silence this warning, use `float` by itself. Doing this will not modify any behavior and is safe. If you specifically wanted the numpy scalar type, use `np.float64` here.\n",
      "Deprecated in NumPy 1.20; for more details and guidance: https://numpy.org/devdocs/release/1.20.0-notes.html#deprecations\n",
      "  img = plt.imread(path).astype(np.float)\n",
      "2022-03-14 22:17:09.936789: I tensorflow/core/grappler/optimizers/custom_graph_optimizer_registry.cc:113] Plugin optimizer for device_type GPU is enabled.\n"
     ]
    },
    {
     "name": "stdout",
     "output_type": "stream",
     "text": [
      "(256, 256, 3)\n"
     ]
    }
   ],
   "source": [
    "predict_single_image(gan, '2.jpg', '3.jpg')"
   ]
  },
  {
   "cell_type": "code",
   "execution_count": null,
   "id": "987861eb-d721-4229-ba50-2c79e1314e08",
   "metadata": {},
   "outputs": [],
   "source": []
  },
  {
   "cell_type": "code",
   "execution_count": 13,
   "id": "17eadfe3-4919-43ae-95f5-43e25674963e",
   "metadata": {},
   "outputs": [
    {
     "ename": "AttributeError",
     "evalue": "module 'scipy.misc' has no attribute 'imread'",
     "output_type": "error",
     "traceback": [
      "\u001b[0;31m---------------------------------------------------------------------------\u001b[0m",
      "\u001b[0;31mAttributeError\u001b[0m                            Traceback (most recent call last)",
      "Input \u001b[0;32mIn [13]\u001b[0m, in \u001b[0;36m<cell line: 1>\u001b[0;34m()\u001b[0m\n\u001b[0;32m----> 1\u001b[0m \u001b[43mscipy\u001b[49m\u001b[38;5;241;43m.\u001b[39;49m\u001b[43mmisc\u001b[49m\u001b[38;5;241;43m.\u001b[39;49m\u001b[43mimread\u001b[49m\n",
      "\u001b[0;31mAttributeError\u001b[0m: module 'scipy.misc' has no attribute 'imread'"
     ]
    }
   ],
   "source": [
    "scipy.misc.imread"
   ]
  },
  {
   "cell_type": "code",
   "execution_count": 15,
   "id": "b5b6702c-23a2-4584-9958-5e740d6c27d3",
   "metadata": {},
   "outputs": [
    {
     "name": "stderr",
     "output_type": "stream",
     "text": [
      "/var/folders/12/bdpxcrts1058cvnjz3lb72j40000gn/T/ipykernel_77301/2637187183.py:1: DeprecationWarning: `np.float` is a deprecated alias for the builtin `float`. To silence this warning, use `float` by itself. Doing this will not modify any behavior and is safe. If you specifically wanted the numpy scalar type, use `np.float64` here.\n",
      "Deprecated in NumPy 1.20; for more details and guidance: https://numpy.org/devdocs/release/1.20.0-notes.html#deprecations\n",
      "  plt.imread('2.jpg').astype(np.float)\n"
     ]
    },
    {
     "data": {
      "text/plain": [
       "array([[255., 255., 255., ..., 255., 255., 255.],\n",
       "       [255., 255., 255., ..., 255., 255., 255.],\n",
       "       [255., 255., 255., ..., 255., 255., 255.],\n",
       "       ...,\n",
       "       [255., 255., 255., ..., 255., 255., 255.],\n",
       "       [255., 255., 255., ..., 255., 255., 255.],\n",
       "       [255., 255., 255., ..., 255., 255., 255.]])"
      ]
     },
     "execution_count": 15,
     "metadata": {},
     "output_type": "execute_result"
    }
   ],
   "source": [
    "plt.imread('2.jpg').astype(np.float)"
   ]
  },
  {
   "cell_type": "code",
   "execution_count": null,
   "id": "35679749-945f-4a46-8c34-35f75edc6cd9",
   "metadata": {},
   "outputs": [],
   "source": [
    "o = np.ones((8,8))"
   ]
  },
  {
   "cell_type": "code",
   "execution_count": null,
   "id": "d8f25ccc-7efb-441d-b020-76c1d0c782f9",
   "metadata": {},
   "outputs": [],
   "source": [
    "o = np.expand_dims(o,2)"
   ]
  },
  {
   "cell_type": "code",
   "execution_count": 87,
   "id": "4a0a9db0-878c-4cf2-81e7-739ef37d9791",
   "metadata": {},
   "outputs": [],
   "source": [
    "def predict_one(pix2pix, image_B):\n",
    "    \n",
    "    #image_B = scipy.misc.imresize(image_B, (pix2pix.nW, pix2pix.nH))\n",
    "    #print(image_B.shape)\n",
    "    #image_B = np.array(Image.fromarray(image_B).resize(size=(pix2pix.nW, pix2pix.nH)))\n",
    "    image_B = np.array(Image.fromarray(image_B.astype('uint8'), mode='RGB').resize(size=(pix2pix.nW, pix2pix.nH)))\n",
    "    \n",
    "    images_B = []\n",
    "    images_B.append(image_B)\n",
    "    images_B = np.array(images_B)/127.5 - 1.\n",
    "    generates_A = pix2pix.generator.predict(images_B)\n",
    "    generate_A = generates_A[0]\n",
    "    generate_A = np.uint8((np.array(generate_A) * 0.5 + 0.5) * 255)\n",
    "    #generate_A = Image.fromarray(generate_A)\n",
    "    #generated_image = Image.new('RGB', (pix2pix.nW, pix2pix.nH))\n",
    "    #generated_image.paste(generate_A, (0, 0, pix2pix.nW, pix2pix.nH))\n",
    "    #generated_image.save(save_path, quality=95)\n",
    "    return generate_A"
   ]
  },
  {
   "cell_type": "code",
   "execution_count": 97,
   "id": "fafed655-a9fc-42a8-a29e-d74dd38e32d4",
   "metadata": {},
   "outputs": [],
   "source": [
    "cap = cv2.VideoCapture('01.mov')\n",
    "\n",
    "out = cv2.VideoWriter('outpy.avi',cv2.VideoWriter_fourcc('M','J','P','G'), 30, (256,256))\n",
    "\n"
   ]
  },
  {
   "cell_type": "code",
   "execution_count": 98,
   "id": "aa712e6c-ffe7-4fc2-bdc6-b6646e6e66b5",
   "metadata": {},
   "outputs": [
    {
     "name": "stdout",
     "output_type": "stream",
     "text": [
      "generating 00000\n",
      "generating 00100\n",
      "generating 00200\n",
      "generating 00300\n",
      "generating 00400\n",
      "generating 00500\n",
      "generating 00600\n"
     ]
    }
   ],
   "source": [
    "gan.generator.load_weights('./weights/generator_weights.h5')\n",
    "success = True\n",
    "count = 0\n",
    "while success:\n",
    "    success,image = cap.read()\n",
    "    if success:\n",
    "        generated = predict_one(gan,image)\n",
    "        out.write(generated)\n",
    "    if count%100==0:\n",
    "        print(f'generating {count:05}')\n",
    "    count+=1"
   ]
  },
  {
   "cell_type": "code",
   "execution_count": 99,
   "id": "daedc612-5066-4555-91d5-308af193c7ed",
   "metadata": {},
   "outputs": [],
   "source": [
    "cap.release()\n",
    "out.release()\n"
   ]
  },
  {
   "cell_type": "code",
   "execution_count": null,
   "id": "ba20ba96-35a6-4ae4-836f-bb94763a8868",
   "metadata": {},
   "outputs": [],
   "source": []
  }
 ],
 "metadata": {
  "kernelspec": {
   "display_name": "Python 3 (ipykernel)",
   "language": "python",
   "name": "python3"
  },
  "language_info": {
   "codemirror_mode": {
    "name": "ipython",
    "version": 3
   },
   "file_extension": ".py",
   "mimetype": "text/x-python",
   "name": "python",
   "nbconvert_exporter": "python",
   "pygments_lexer": "ipython3",
   "version": "3.9.10"
  }
 },
 "nbformat": 4,
 "nbformat_minor": 5
}
